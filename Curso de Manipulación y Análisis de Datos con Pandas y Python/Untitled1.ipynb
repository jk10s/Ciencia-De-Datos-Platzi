{
 "cells": [
  {
   "cell_type": "code",
   "execution_count": 18,
   "id": "1b299c9b",
   "metadata": {},
   "outputs": [],
   "source": [
    "import numpy as np"
   ]
  },
  {
   "cell_type": "code",
   "execution_count": 19,
   "id": "37c6fd24",
   "metadata": {},
   "outputs": [
    {
     "data": {
      "text/plain": [
       "array([ 1, 23])"
      ]
     },
     "execution_count": 19,
     "metadata": {},
     "output_type": "execute_result"
    }
   ],
   "source": [
    "a=np.array([1,23])\n",
    "a"
   ]
  },
  {
   "cell_type": "code",
   "execution_count": 21,
   "id": "3468a052",
   "metadata": {
    "scrolled": true
   },
   "outputs": [
    {
     "data": {
      "text/plain": [
       "(2,)"
      ]
     },
     "execution_count": 21,
     "metadata": {},
     "output_type": "execute_result"
    }
   ],
   "source": [
    "a.shape"
   ]
  },
  {
   "cell_type": "code",
   "execution_count": null,
   "id": "cb105334",
   "metadata": {},
   "outputs": [],
   "source": [
    "a.ndim"
   ]
  },
  {
   "cell_type": "code",
   "execution_count": null,
   "id": "9eceb615",
   "metadata": {},
   "outputs": [],
   "source": [
    "nuevo=np.array([1,2,3,4])\n",
    "nuevo"
   ]
  },
  {
   "cell_type": "code",
   "execution_count": null,
   "id": "7d74cd83",
   "metadata": {},
   "outputs": [],
   "source": [
    "nuevo2=np.array([[[1,2,3,4]]])\n",
    "nuevo2.shape"
   ]
  },
  {
   "cell_type": "code",
   "execution_count": null,
   "id": "eadee385",
   "metadata": {},
   "outputs": [],
   "source": [
    "nuevo2.ndim\n"
   ]
  },
  {
   "cell_type": "code",
   "execution_count": null,
   "id": "0b6852a0",
   "metadata": {},
   "outputs": [],
   "source": [
    "a = np.array([[1 , 2, 3, 4], [5, 6, 7, 8], [9, 10, 11, 12]])"
   ]
  },
  {
   "cell_type": "code",
   "execution_count": null,
   "id": "35e8c10b",
   "metadata": {},
   "outputs": [],
   "source": [
    "a.shape\n"
   ]
  }
 ],
 "metadata": {
  "kernelspec": {
   "display_name": "Python 3 (ipykernel)",
   "language": "python",
   "name": "python3"
  },
  "language_info": {
   "codemirror_mode": {
    "name": "ipython",
    "version": 3
   },
   "file_extension": ".py",
   "mimetype": "text/x-python",
   "name": "python",
   "nbconvert_exporter": "python",
   "pygments_lexer": "ipython3",
   "version": "3.9.12"
  }
 },
 "nbformat": 4,
 "nbformat_minor": 5
}
