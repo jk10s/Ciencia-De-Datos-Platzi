{
 "cells": [
  {
   "cell_type": "code",
   "execution_count": 57,
   "id": "e2f6aa86",
   "metadata": {},
   "outputs": [],
   "source": [
    "import numpy as np\n"
   ]
  },
  {
   "cell_type": "code",
   "execution_count": 58,
   "id": "738ebc0c",
   "metadata": {},
   "outputs": [],
   "source": [
    "a = np.array([1, 2, 3])"
   ]
  },
  {
   "cell_type": "code",
   "execution_count": 59,
   "id": "c31c8f14",
   "metadata": {},
   "outputs": [
    {
     "name": "stdout",
     "output_type": "stream",
     "text": [
      "[1 2 3]\n"
     ]
    }
   ],
   "source": [
    "print(a)"
   ]
  },
  {
   "cell_type": "code",
   "execution_count": 60,
   "id": "c97b1414",
   "metadata": {},
   "outputs": [
    {
     "data": {
      "text/plain": [
       "array([0., 0.])"
      ]
     },
     "execution_count": 60,
     "metadata": {},
     "output_type": "execute_result"
    }
   ],
   "source": [
    "np.zeros(2)"
   ]
  },
  {
   "cell_type": "code",
   "execution_count": 61,
   "id": "40013824",
   "metadata": {},
   "outputs": [
    {
     "data": {
      "text/plain": [
       "array([1., 1.])"
      ]
     },
     "execution_count": 61,
     "metadata": {},
     "output_type": "execute_result"
    }
   ],
   "source": [
    "np.ones(2)"
   ]
  },
  {
   "cell_type": "code",
   "execution_count": 62,
   "id": "c72f4c45",
   "metadata": {},
   "outputs": [
    {
     "data": {
      "text/plain": [
       "array([1., 1.])"
      ]
     },
     "execution_count": 62,
     "metadata": {},
     "output_type": "execute_result"
    }
   ],
   "source": [
    "# Create an empty array with 2 elements\n",
    "np.empty(2) "
   ]
  },
  {
   "cell_type": "code",
   "execution_count": 63,
   "id": "8852b861",
   "metadata": {},
   "outputs": [
    {
     "data": {
      "text/plain": [
       "array([1., 1.])"
      ]
     },
     "execution_count": 63,
     "metadata": {},
     "output_type": "execute_result"
    }
   ],
   "source": [
    "np.empty(2) "
   ]
  },
  {
   "cell_type": "code",
   "execution_count": 64,
   "id": "4725e1b1",
   "metadata": {},
   "outputs": [
    {
     "data": {
      "text/plain": [
       "array([0, 1, 2, 3])"
      ]
     },
     "execution_count": 64,
     "metadata": {},
     "output_type": "execute_result"
    }
   ],
   "source": [
    "#uede crear una matriz con un rango de elementos:\n",
    "np.arange(4)\n"
   ]
  },
  {
   "cell_type": "code",
   "execution_count": 65,
   "id": "cd05c1fa",
   "metadata": {},
   "outputs": [
    {
     "data": {
      "text/plain": [
       "array([ 2,  5,  8, 11, 14, 17, 20, 23, 26, 29, 32, 35, 38, 41, 44, 47])"
      ]
     },
     "execution_count": 65,
     "metadata": {},
     "output_type": "execute_result"
    }
   ],
   "source": [
    "#rango de intervalos espaciados uniformemente. Para hacer esto, especificará el primer número , el último número y el tamaño del paso .\n",
    "np.arange(2,50,3)"
   ]
  },
  {
   "cell_type": "code",
   "execution_count": 66,
   "id": "85460e2a",
   "metadata": {},
   "outputs": [
    {
     "data": {
      "text/plain": [
       "array([ 0. ,  2.5,  5. ,  7.5, 10. ])"
      ]
     },
     "execution_count": 66,
     "metadata": {},
     "output_type": "execute_result"
    }
   ],
   "source": [
    "#También puede usar np.linspace()para crear una matriz con valores que están espaciados linealmente en un intervalo específico:\n",
    "np.linspace(0,10, num=5)"
   ]
  },
  {
   "cell_type": "code",
   "execution_count": 67,
   "id": "006d5f2d",
   "metadata": {},
   "outputs": [
    {
     "data": {
      "text/plain": [
       "array([1, 1])"
      ]
     },
     "execution_count": 67,
     "metadata": {},
     "output_type": "execute_result"
    }
   ],
   "source": [
    "#i bien el tipo de datos predeterminado es de punto flotante ( np.float64), puede especificar explícitamente qué tipo de datos desea usar la dtypepalabra clave.\n",
    "np.ones(2, dtype=np.int64)"
   ]
  },
  {
   "cell_type": "code",
   "execution_count": 68,
   "id": "f661e2df",
   "metadata": {},
   "outputs": [],
   "source": [
    "#Ordenar un elemento es simple con np.sort(). Puede especificar el eje, el tipo y el orden cuando llama a la función.\n",
    "aa=np.array([2,1,4,6,9,7,8])"
   ]
  },
  {
   "cell_type": "code",
   "execution_count": 69,
   "id": "12a914f8",
   "metadata": {},
   "outputs": [
    {
     "data": {
      "text/plain": [
       "array([1, 2, 4, 6, 7, 8, 9])"
      ]
     },
     "execution_count": 69,
     "metadata": {},
     "output_type": "execute_result"
    }
   ],
   "source": [
    "np.sort(aa)"
   ]
  },
  {
   "cell_type": "code",
   "execution_count": 70,
   "id": "58749d95",
   "metadata": {},
   "outputs": [
    {
     "data": {
      "text/plain": [
       "array([1, 2, 3, 4, 5, 6, 7, 8])"
      ]
     },
     "execution_count": 70,
     "metadata": {},
     "output_type": "execute_result"
    }
   ],
   "source": [
    "a = np.array([1, 2, 3, 4])\n",
    "b = np.array([5, 6, 7, 8])\n",
    "np.concatenate((a,b))"
   ]
  },
  {
   "cell_type": "code",
   "execution_count": 71,
   "id": "76ea3d1a",
   "metadata": {},
   "outputs": [
    {
     "data": {
      "text/plain": [
       "array([[1, 2],\n",
       "       [3, 4],\n",
       "       [5, 6]])"
      ]
     },
     "execution_count": 71,
     "metadata": {},
     "output_type": "execute_result"
    }
   ],
   "source": [
    "x = np.array([[1, 2], [3, 4]])\n",
    "y = np.array([[5, 6]])\n",
    "np.concatenate((x, y), axis=0)\n"
   ]
  },
  {
   "cell_type": "code",
   "execution_count": 72,
   "id": "5154af6b",
   "metadata": {},
   "outputs": [],
   "source": [
    "array_example = np.array([[[0, 1, 2, 3],\n",
    "                           [4, 5, 6, 7]],\n",
    "\n",
    "                          [[0, 1, 2, 3],\n",
    "                           [4, 5, 6, 7]],\n",
    "\n",
    "                          [[0 ,1 ,2, 3],\n",
    "                           [4, 5, 6, 7]]])"
   ]
  },
  {
   "cell_type": "code",
   "execution_count": 73,
   "id": "3f4300e5",
   "metadata": {},
   "outputs": [
    {
     "data": {
      "text/plain": [
       "3"
      ]
     },
     "execution_count": 73,
     "metadata": {},
     "output_type": "execute_result"
    }
   ],
   "source": [
    "array_example.ndim"
   ]
  },
  {
   "cell_type": "code",
   "execution_count": 74,
   "id": "96290649",
   "metadata": {},
   "outputs": [
    {
     "data": {
      "text/plain": [
       "24"
      ]
     },
     "execution_count": 74,
     "metadata": {},
     "output_type": "execute_result"
    }
   ],
   "source": [
    "#numeot total de elementos\n",
    "array_example.size"
   ]
  },
  {
   "cell_type": "code",
   "execution_count": 75,
   "id": "7cc6299c",
   "metadata": {},
   "outputs": [
    {
     "data": {
      "text/plain": [
       "(3, 2, 4)"
      ]
     },
     "execution_count": 75,
     "metadata": {},
     "output_type": "execute_result"
    }
   ],
   "source": [
    "#Y para encontrar la forma de su matriz, ejecute:\n",
    "array_example.shape\n"
   ]
  },
  {
   "cell_type": "code",
   "execution_count": 76,
   "id": "9a9d1cc7",
   "metadata": {},
   "outputs": [
    {
     "name": "stdout",
     "output_type": "stream",
     "text": [
      "[[ 1  2  3  4  5]\n",
      " [ 7  8  9 10 11]]\n"
     ]
    }
   ],
   "source": [
    "aaa=np.array([[1,2,3,4,5],[7,8,9,10,11]])\n",
    "print(aaa)"
   ]
  },
  {
   "cell_type": "code",
   "execution_count": 77,
   "id": "8b6c817c",
   "metadata": {},
   "outputs": [
    {
     "data": {
      "text/plain": [
       "(2, 5)"
      ]
     },
     "execution_count": 77,
     "metadata": {},
     "output_type": "execute_result"
    }
   ],
   "source": [
    "aaa.shape"
   ]
  },
  {
   "cell_type": "code",
   "execution_count": 78,
   "id": "e1b70028",
   "metadata": {},
   "outputs": [
    {
     "data": {
      "text/plain": [
       "2"
      ]
     },
     "execution_count": 78,
     "metadata": {},
     "output_type": "execute_result"
    }
   ],
   "source": [
    "aaa.ndim"
   ]
  },
  {
   "cell_type": "code",
   "execution_count": 79,
   "id": "76b689e4",
   "metadata": {},
   "outputs": [],
   "source": [
    "hh= np.array([[[0, 1, 2, 3, 4],[5, 6, 7, 8, 9],[10, 11, 12, 13, 14],[15, 16, 17, 18, 19]],\n",
    "        [[20, 21, 22, 23, 24],[25, 26, 27, 28, 29],[40, 41, 42, 43, 44],[67, 45, 46, 47, 46]],\n",
    "        [[50, 51, 52, 33, 34],[34, 35, 36, 37, 36],[40, 41, 42, 43, 44],[67, 45, 46, 47, 46]]])"
   ]
  },
  {
   "cell_type": "code",
   "execution_count": 80,
   "id": "25846f8d",
   "metadata": {},
   "outputs": [
    {
     "data": {
      "text/plain": [
       "array([[[ 0,  1,  2,  3,  4],\n",
       "        [ 5,  6,  7,  8,  9],\n",
       "        [10, 11, 12, 13, 14],\n",
       "        [15, 16, 17, 18, 19]],\n",
       "\n",
       "       [[20, 21, 22, 23, 24],\n",
       "        [25, 26, 27, 28, 29],\n",
       "        [40, 41, 42, 43, 44],\n",
       "        [67, 45, 46, 47, 46]],\n",
       "\n",
       "       [[50, 51, 52, 33, 34],\n",
       "        [34, 35, 36, 37, 36],\n",
       "        [40, 41, 42, 43, 44],\n",
       "        [67, 45, 46, 47, 46]]])"
      ]
     },
     "execution_count": 80,
     "metadata": {},
     "output_type": "execute_result"
    }
   ],
   "source": [
    "hh"
   ]
  },
  {
   "cell_type": "code",
   "execution_count": 81,
   "id": "aa719867",
   "metadata": {},
   "outputs": [
    {
     "data": {
      "text/plain": [
       "(3, 4, 5)"
      ]
     },
     "execution_count": 81,
     "metadata": {},
     "output_type": "execute_result"
    }
   ],
   "source": [
    "np.shape(hh)\n"
   ]
  },
  {
   "cell_type": "code",
   "execution_count": 82,
   "id": "d99bbb0a",
   "metadata": {},
   "outputs": [],
   "source": [
    "s=np.array([[1,2,3],[4,5,6]])"
   ]
  },
  {
   "cell_type": "code",
   "execution_count": 83,
   "id": "85dddd40",
   "metadata": {},
   "outputs": [
    {
     "data": {
      "text/plain": [
       "array([[1, 2],\n",
       "       [3, 4],\n",
       "       [5, 6]])"
      ]
     },
     "execution_count": 83,
     "metadata": {},
     "output_type": "execute_result"
    }
   ],
   "source": [
    "x = np.array([[1, 2], [3, 4]])\n",
    "y = np.array([[5, 6]])\n",
    "np.concatenate((x, y), axis=0)"
   ]
  },
  {
   "cell_type": "code",
   "execution_count": 84,
   "id": "5bcc30e8",
   "metadata": {},
   "outputs": [
    {
     "data": {
      "text/plain": [
       "3"
      ]
     },
     "execution_count": 84,
     "metadata": {},
     "output_type": "execute_result"
    }
   ],
   "source": [
    "array_example.ndim"
   ]
  },
  {
   "cell_type": "code",
   "execution_count": 85,
   "id": "0abdac64",
   "metadata": {},
   "outputs": [
    {
     "data": {
      "text/plain": [
       "24"
      ]
     },
     "execution_count": 85,
     "metadata": {},
     "output_type": "execute_result"
    }
   ],
   "source": [
    "array_example.size"
   ]
  },
  {
   "cell_type": "code",
   "execution_count": 86,
   "id": "92a0ef3d",
   "metadata": {},
   "outputs": [
    {
     "name": "stdout",
     "output_type": "stream",
     "text": [
      "[0 1 2 3 4 5]\n"
     ]
    }
   ],
   "source": [
    "a = np.arange(6)\n",
    "print(a)"
   ]
  },
  {
   "cell_type": "code",
   "execution_count": 87,
   "id": "66a4d0ef",
   "metadata": {},
   "outputs": [
    {
     "name": "stdout",
     "output_type": "stream",
     "text": [
      "[[0 1]\n",
      " [2 3]\n",
      " [4 5]]\n"
     ]
    }
   ],
   "source": [
    "b = a.reshape(3, 2)\n",
    "print(b)"
   ]
  },
  {
   "cell_type": "code",
   "execution_count": 88,
   "id": "874fc850",
   "metadata": {},
   "outputs": [
    {
     "data": {
      "text/plain": [
       "array([[0, 1, 2, 3, 4, 5]])"
      ]
     },
     "execution_count": 88,
     "metadata": {},
     "output_type": "execute_result"
    }
   ],
   "source": [
    "#Con np.reshape, puede especificar algunos parámetros opcionales:\n",
    "np.reshape(a, newshape=(1, 6), order='C')"
   ]
  },
  {
   "cell_type": "code",
   "execution_count": 89,
   "id": "9af240e2",
   "metadata": {},
   "outputs": [
    {
     "data": {
      "text/plain": [
       "(6,)"
      ]
     },
     "execution_count": 89,
     "metadata": {},
     "output_type": "execute_result"
    }
   ],
   "source": [
    "a = np.array([1, 2, 3, 4, 5, 6])\n",
    "a.shape"
   ]
  },
  {
   "cell_type": "code",
   "execution_count": 90,
   "id": "5332adf2",
   "metadata": {},
   "outputs": [
    {
     "data": {
      "text/plain": [
       "(1, 6)"
      ]
     },
     "execution_count": 90,
     "metadata": {},
     "output_type": "execute_result"
    }
   ],
   "source": [
    "#Puede usar np.newaxispara agregar un nuevo eje:\n",
    "a2 = a[np.newaxis, :]\n",
    "a2.shape"
   ]
  },
  {
   "cell_type": "code",
   "execution_count": 91,
   "id": "7e089445",
   "metadata": {},
   "outputs": [
    {
     "data": {
      "text/plain": [
       "array([[1, 2, 3, 4, 5, 6]])"
      ]
     },
     "execution_count": 91,
     "metadata": {},
     "output_type": "execute_result"
    }
   ],
   "source": [
    "a2"
   ]
  },
  {
   "cell_type": "code",
   "execution_count": 92,
   "id": "e840cc6d",
   "metadata": {},
   "outputs": [
    {
     "data": {
      "text/plain": [
       "2"
      ]
     },
     "execution_count": 92,
     "metadata": {},
     "output_type": "execute_result"
    }
   ],
   "source": [
    "a2.ndim\n"
   ]
  },
  {
   "cell_type": "code",
   "execution_count": 93,
   "id": "c5dcc6da",
   "metadata": {},
   "outputs": [
    {
     "data": {
      "text/plain": [
       "4"
      ]
     },
     "execution_count": 93,
     "metadata": {},
     "output_type": "execute_result"
    }
   ],
   "source": [
    "d5=np.array([[[[1,2]]]])\n",
    "d5.ndim"
   ]
  },
  {
   "cell_type": "code",
   "execution_count": 103,
   "id": "4851ead7",
   "metadata": {},
   "outputs": [
    {
     "data": {
      "text/plain": [
       "array([[0, 0, 0, 0, 0],\n",
       "       [0, 0, 0, 0, 0],\n",
       "       [0, 0, 0, 0, 0],\n",
       "       [0, 0, 0, 0, 0]])"
      ]
     },
     "execution_count": 103,
     "metadata": {},
     "output_type": "execute_result"
    }
   ],
   "source": [
    "ceros=np.zeros((4,5),dtype='int')\n",
    "ceros"
   ]
  },
  {
   "cell_type": "code",
   "execution_count": 104,
   "id": "698a4fca",
   "metadata": {},
   "outputs": [
    {
     "data": {
      "text/plain": [
       "array([[    139742105492688,      94197853926960,                   0,\n",
       "                          0,                   0, 4189022153932546683],\n",
       "       [3471486078910865952, 4193188065225944374, 3833739988843508020,\n",
       "        2318265678939828281, 2478221553439042850, 3835151968702177338],\n",
       "       [3761176615228761445, 3762539103408775728, 3775484581381158196,\n",
       "        8440344025573373494, 2478507435169572211, 7958535038077902906],\n",
       "       [8296228837497597281, 4189032028197581669, 3834029363103670816,\n",
       "        3545570297039106914, 3846748517878018614, 3546691566286682210],\n",
       "       [8317341608397922658, 4189022137156394855, 8391722768137527840,\n",
       "        8315181416903237477, 8243124581912289908, 2459029316100385139]])"
      ]
     },
     "execution_count": 104,
     "metadata": {},
     "output_type": "execute_result"
    }
   ],
   "source": [
    "empty=np.empty((5,6),dtype='int')\n",
    "empty"
   ]
  },
  {
   "cell_type": "code",
   "execution_count": 106,
   "id": "802758d4",
   "metadata": {},
   "outputs": [
    {
     "data": {
      "text/plain": [
       "array([[0.45982226, 0.72600539, 0.29029611, 0.77639616],\n",
       "       [0.89974686, 0.34270574, 0.88024752, 0.88540032],\n",
       "       [0.05876273, 0.61054115, 0.90892999, 0.19921314]])"
      ]
     },
     "execution_count": 106,
     "metadata": {},
     "output_type": "execute_result"
    }
   ],
   "source": [
    "alazar=np.random.random((3,4))\n",
    "alazar"
   ]
  },
  {
   "cell_type": "code",
   "execution_count": 112,
   "id": "f3934959",
   "metadata": {},
   "outputs": [
    {
     "data": {
      "text/plain": [
       "array([[0, 0, 1, 0],\n",
       "       [1, 0, 0, 0],\n",
       "       [0, 0, 1, 0]])"
      ]
     },
     "execution_count": 112,
     "metadata": {},
     "output_type": "execute_result"
    }
   ],
   "source": [
    "enterosazar=np.random.randint(0,2, size=(3,4))\n",
    "enterosazar"
   ]
  },
  {
   "cell_type": "code",
   "execution_count": 116,
   "id": "3a69a3c7",
   "metadata": {},
   "outputs": [
    {
     "data": {
      "text/plain": [
       "3"
      ]
     },
     "execution_count": 116,
     "metadata": {},
     "output_type": "execute_result"
    }
   ],
   "source": [
    "enterosazar.sum()"
   ]
  },
  {
   "cell_type": "code",
   "execution_count": 118,
   "id": "c4f5bffa",
   "metadata": {},
   "outputs": [
    {
     "data": {
      "text/plain": [
       "array([1, 0, 2, 0])"
      ]
     },
     "execution_count": 118,
     "metadata": {},
     "output_type": "execute_result"
    }
   ],
   "source": [
    "#suma de las columnas\n",
    "enterosazar.sum(axis=0)"
   ]
  },
  {
   "cell_type": "code",
   "execution_count": 120,
   "id": "472c3d3e",
   "metadata": {},
   "outputs": [
    {
     "data": {
      "text/plain": [
       "array([1, 1, 1])"
      ]
     },
     "execution_count": 120,
     "metadata": {},
     "output_type": "execute_result"
    }
   ],
   "source": [
    "#suma de las filas\n",
    "enterosazar.sum(axis=1)"
   ]
  },
  {
   "cell_type": "code",
   "execution_count": 123,
   "id": "40c4be96",
   "metadata": {},
   "outputs": [
    {
     "data": {
      "text/plain": [
       "array([1, 0, 1, 0])"
      ]
     },
     "execution_count": 123,
     "metadata": {},
     "output_type": "execute_result"
    }
   ],
   "source": [
    "#valor maximo por cada columna\n",
    "enterosazar.max(axis=0)"
   ]
  },
  {
   "cell_type": "code",
   "execution_count": 125,
   "id": "2314a4b4",
   "metadata": {},
   "outputs": [
    {
     "data": {
      "text/plain": [
       "array([1, 1, 1])"
      ]
     },
     "execution_count": 125,
     "metadata": {},
     "output_type": "execute_result"
    }
   ],
   "source": [
    "#valor maximo de cada fila\n",
    "enterosazar.max(axis=1)\n"
   ]
  },
  {
   "cell_type": "code",
   "execution_count": 128,
   "id": "1b8d59c5",
   "metadata": {},
   "outputs": [
    {
     "data": {
      "text/plain": [
       "1"
      ]
     },
     "execution_count": 128,
     "metadata": {},
     "output_type": "execute_result"
    }
   ],
   "source": [
    "enterosazar.max()"
   ]
  },
  {
   "cell_type": "code",
   "execution_count": 134,
   "id": "e72a9dd7",
   "metadata": {},
   "outputs": [
    {
     "data": {
      "text/plain": [
       "array([[14,  9, 12, 19],\n",
       "       [ 8,  5,  2, 18],\n",
       "       [29,  0, 27, 25]])"
      ]
     },
     "execution_count": 134,
     "metadata": {},
     "output_type": "execute_result"
    }
   ],
   "source": [
    "ente=np.random.randint(0,34, size=(3,4))\n",
    "#gurardar la posicion donde esta el minimo y maximo con array.argmax\n",
    "ente\n"
   ]
  },
  {
   "cell_type": "code",
   "execution_count": 136,
   "id": "4eea1655",
   "metadata": {},
   "outputs": [
    {
     "data": {
      "text/plain": [
       "8"
      ]
     },
     "execution_count": 136,
     "metadata": {},
     "output_type": "execute_result"
    }
   ],
   "source": [
    "#posicion del array donde esta el valor maximo\n",
    "ente.argmax()"
   ]
  },
  {
   "cell_type": "code",
   "execution_count": 138,
   "id": "49080183",
   "metadata": {},
   "outputs": [
    {
     "data": {
      "text/plain": [
       "9"
      ]
     },
     "execution_count": 138,
     "metadata": {},
     "output_type": "execute_result"
    }
   ],
   "source": [
    "#posiicon del valor donde esta el valor minimo\n",
    "ente.argmin()"
   ]
  },
  {
   "cell_type": "code",
   "execution_count": 140,
   "id": "41f80601",
   "metadata": {},
   "outputs": [
    {
     "data": {
      "text/plain": [
       "14.0"
      ]
     },
     "execution_count": 140,
     "metadata": {},
     "output_type": "execute_result"
    }
   ],
   "source": [
    "#valor del promedio de array\n",
    "ente.mean()"
   ]
  },
  {
   "cell_type": "code",
   "execution_count": 142,
   "id": "eac80df3",
   "metadata": {},
   "outputs": [
    {
     "data": {
      "text/plain": [
       "9.318440498996242"
      ]
     },
     "execution_count": 142,
     "metadata": {},
     "output_type": "execute_result"
    }
   ],
   "source": [
    "#valor dela devioacion estandar\n",
    "ente.std()"
   ]
  },
  {
   "cell_type": "code",
   "execution_count": null,
   "id": "71f8d591",
   "metadata": {},
   "outputs": [],
   "source": []
  }
 ],
 "metadata": {
  "kernelspec": {
   "display_name": "Python 3 (ipykernel)",
   "language": "python",
   "name": "python3"
  },
  "language_info": {
   "codemirror_mode": {
    "name": "ipython",
    "version": 3
   },
   "file_extension": ".py",
   "mimetype": "text/x-python",
   "name": "python",
   "nbconvert_exporter": "python",
   "pygments_lexer": "ipython3",
   "version": "3.9.12"
  }
 },
 "nbformat": 4,
 "nbformat_minor": 5
}
