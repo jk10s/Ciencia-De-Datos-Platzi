{
 "cells": [
  {
   "cell_type": "code",
   "execution_count": 2,
   "id": "c72dfef5",
   "metadata": {},
   "outputs": [
    {
     "name": "stdout",
     "output_type": "stream",
     "text": [
      "[2, 4]\n"
     ]
    }
   ],
   "source": [
    "pare=[numero for numero in range(1,6) if numero %2==0  ]\n",
    "print(pare)"
   ]
  },
  {
   "cell_type": "code",
   "execution_count": 5,
   "id": "f008ee44",
   "metadata": {},
   "outputs": [
    {
     "name": "stdout",
     "output_type": "stream",
     "text": [
      "{'id: 0': 0, 'id: 2': 4, 'id: 4': 8, 'id: 6': 12, 'id: 8': 16, 'id: 10': 20, 'id: 12': 24, 'id: 14': 28, 'id: 16': 32, 'id: 18': 36, 'id: 20': 40, 'id: 22': 44, 'id: 24': 48, 'id: 26': 52, 'id: 28': 56, 'id: 30': 60, 'id: 32': 64, 'id: 34': 68, 'id: 36': 72, 'id: 38': 76, 'id: 40': 80, 'id: 42': 84, 'id: 44': 88, 'id: 46': 92, 'id: 48': 96, 'id: 50': 100, 'id: 52': 104, 'id: 54': 108, 'id: 56': 112, 'id: 58': 116, 'id: 60': 120, 'id: 62': 124, 'id: 64': 128, 'id: 66': 132, 'id: 68': 136, 'id: 70': 140, 'id: 72': 144, 'id: 74': 148, 'id: 76': 152, 'id: 78': 156, 'id: 80': 160, 'id: 82': 164, 'id: 84': 168, 'id: 86': 172, 'id: 88': 176, 'id: 90': 180, 'id: 92': 184, 'id: 94': 188, 'id: 96': 192, 'id: 98': 196}\n"
     ]
    }
   ],
   "source": [
    "noooo={'id: '+str(numero):numero*2 for numero in range(100) if numero %2==0}\n",
    "print(noooo)"
   ]
  },
  {
   "cell_type": "code",
   "execution_count": 13,
   "id": "c7edd743",
   "metadata": {},
   "outputs": [
    {
     "name": "stdout",
     "output_type": "stream",
     "text": [
      "<generator object <genexpr> at 0x7f754edd9eb0>\n",
      "[0, 2, 4, 6, 8, 10, 12, 14, 16, 18, 20, 22, 24, 26, 28, 30, 32, 34, 36, 38, 40, 42, 44, 46, 48, 50, 52, 54, 56, 58, 60, 62, 64, 66, 68, 70, 72, 74, 76, 78, 80, 82, 84, 86, 88, 90, 92, 94, 96, 98]\n"
     ]
    }
   ],
   "source": [
    "generador=(numero for numero in range(100) if numero %2==0)\n",
    "print(generador)\n",
    "generadora=list(generador)\n",
    "print(generadora)"
   ]
  },
  {
   "cell_type": "code",
   "execution_count": 16,
   "id": "f64143a5",
   "metadata": {},
   "outputs": [
    {
     "name": "stdout",
     "output_type": "stream",
     "text": [
      "[1, 1, 1, 1, 1, 1, 1, 1, 1, 1, 1, 1, 1, 1, 1, 1, 1, 1, 1, 1, 1, 1, 1, 1, 1, 1, 1, 1, 1, 1, 1, 1, 1, 1, 1, 1, 1, 1, 1, 1, 1, 1, 1, 1, 1, 1, 1, 1, 1, 1]\n"
     ]
    }
   ],
   "source": [
    "gene=(1 for numero in range(100) if numero %2==0)\n",
    "print(list(gene))"
   ]
  },
  {
   "cell_type": "code",
   "execution_count": 21,
   "id": "d0c86c0a",
   "metadata": {},
   "outputs": [
    {
     "name": "stdout",
     "output_type": "stream",
     "text": [
      "[[-10, 100], [-9, 81], [-8, 64], [-7, 49], [-6, 36], [-5, 25], [-4, 16], [-3, 9], [-2, 4], [-1, 1], [0, 0], [1, 1], [2, 4], [3, 9], [4, 16], [5, 25], [6, 36], [7, 49], [8, 64], [9, 81]]\n"
     ]
    }
   ],
   "source": [
    "\n",
    "parabola=[[x,x**2] for x in range(-10,10,1)]\n",
    "print(parabola)"
   ]
  },
  {
   "cell_type": "code",
   "execution_count": 24,
   "id": "c6a53ba7",
   "metadata": {},
   "outputs": [],
   "source": [
    "import numpy as np\n",
    "j= np.array(parabola)"
   ]
  },
  {
   "cell_type": "code",
   "execution_count": 26,
   "id": "2df0087c",
   "metadata": {},
   "outputs": [
    {
     "data": {
      "text/plain": [
       "array([[-10, 100],\n",
       "       [ -9,  81],\n",
       "       [ -8,  64],\n",
       "       [ -7,  49],\n",
       "       [ -6,  36],\n",
       "       [ -5,  25],\n",
       "       [ -4,  16],\n",
       "       [ -3,   9],\n",
       "       [ -2,   4],\n",
       "       [ -1,   1],\n",
       "       [  0,   0],\n",
       "       [  1,   1],\n",
       "       [  2,   4],\n",
       "       [  3,   9],\n",
       "       [  4,  16],\n",
       "       [  5,  25],\n",
       "       [  6,  36],\n",
       "       [  7,  49],\n",
       "       [  8,  64],\n",
       "       [  9,  81]])"
      ]
     },
     "execution_count": 26,
     "metadata": {},
     "output_type": "execute_result"
    }
   ],
   "source": [
    "j"
   ]
  },
  {
   "cell_type": "code",
   "execution_count": 28,
   "id": "0175a53e",
   "metadata": {},
   "outputs": [],
   "source": [
    "import matplotlib.pyplot as plt\n"
   ]
  },
  {
   "cell_type": "code",
   "execution_count": 30,
   "id": "95e6b21e",
   "metadata": {},
   "outputs": [
    {
     "data": {
      "text/plain": [
       "[<matplotlib.lines.Line2D at 0x7f75337f1880>]"
      ]
     },
     "execution_count": 30,
     "metadata": {},
     "output_type": "execute_result"
    },
    {
     "data": {
      "image/png": "[encoded data removed]",
      "text/plain": [
       "<Figure size 432x288 with 1 Axes>"
      ]
     },
     "metadata": {
      "needs_background": "light"
     },
     "output_type": "display_data"
    }
   ],
   "source": [
    "plt.plot(j[:,0],j[:,1])"
   ]
  },
  {
   "cell_type": "code",
   "execution_count": 31,
   "id": "0b3fef60",
   "metadata": {},
   "outputs": [],
   "source": [
    "frases=[\"lacartillaes un curso el hp\",\"sus labios de color rojo \",\"el cielo es azul \"]"
   ]
  },
  {
   "cell_type": "code",
   "execution_count": 35,
   "id": "96edf11d",
   "metadata": {},
   "outputs": [
    {
     "name": "stdout",
     "output_type": "stream",
     "text": [
      "[['lacartillaes un curso el hp'], ['sus labios de color rojo '], ['el cielo es azul ']]\n"
     ]
    }
   ],
   "source": [
    "token=[palabra.split(\",\") for palabra in frases]\n",
    "print(token)"
   ]
  },
  {
   "cell_type": "markdown",
   "id": "cd8371d6",
   "metadata": {},
   "source": [
    "funciones lambda\n",
    "multiples arguneto spero reciben una unoca expresion"
   ]
  },
  {
   "cell_type": "code",
   "execution_count": 45,
   "id": "d978fcee",
   "metadata": {},
   "outputs": [],
   "source": [
    "mensaje=lambda numero: numero *3"
   ]
  },
  {
   "cell_type": "code",
   "execution_count": 47,
   "id": "fa05168d",
   "metadata": {},
   "outputs": [
    {
     "data": {
      "text/plain": [
       "3"
      ]
     },
     "execution_count": 47,
     "metadata": {},
     "output_type": "execute_result"
    }
   ],
   "source": [
    "mensaje(1)"
   ]
  },
  {
   "cell_type": "code",
   "execution_count": 49,
   "id": "2d0a9865",
   "metadata": {},
   "outputs": [],
   "source": [
    "binomio= lambda a,b: a**2 + 2*a*b + b**2"
   ]
  },
  {
   "cell_type": "code",
   "execution_count": 59,
   "id": "7e29f278",
   "metadata": {},
   "outputs": [
    {
     "data": {
      "text/plain": [
       "25"
      ]
     },
     "execution_count": 59,
     "metadata": {},
     "output_type": "execute_result"
    }
   ],
   "source": [
    "binomio(2,3)"
   ]
  },
  {
   "cell_type": "code",
   "execution_count": 62,
   "id": "a1d5014b",
   "metadata": {},
   "outputs": [
    {
     "name": "stdout",
     "output_type": "stream",
     "text": [
      "0\n"
     ]
    }
   ],
   "source": [
    "x='100'\n",
    "print(x[1])"
   ]
  },
  {
   "cell_type": "code",
   "execution_count": 71,
   "id": "fe61da0d",
   "metadata": {},
   "outputs": [
    {
     "name": "stdout",
     "output_type": "stream",
     "text": [
      "153\n",
      "370\n",
      "371\n",
      "407\n"
     ]
    }
   ],
   "source": [
    "for n in range(100,1000):\n",
    "    j=(int(str(n)[0])**3+int(str(n)[1])**3 + int(str(n)[2])**3)\n",
    "    if j==n:\n",
    "        print(n)\n",
    "    "
   ]
  },
  {
   "cell_type": "code",
   "execution_count": null,
   "id": "cb682423",
   "metadata": {},
   "outputs": [],
   "source": [
    "pp= lambda j=(int(str(n)[0])**3+int(str(n)[1])**3 + int(str(n)[2])**3):n in range(100,1000) if j==n"
   ]
  }
 ],
 "metadata": {
  "kernelspec": {
   "display_name": "Python 3 (ipykernel)",
   "language": "python",
   "name": "python3"
  },
  "language_info": {
   "codemirror_mode": {
    "name": "ipython",
    "version": 3
   },
   "file_extension": ".py",
   "mimetype": "text/x-python",
   "name": "python",
   "nbconvert_exporter": "python",
   "pygments_lexer": "ipython3",
   "version": "3.9.12"
  }
 },
 "nbformat": 4,
 "nbformat_minor": 5
}
