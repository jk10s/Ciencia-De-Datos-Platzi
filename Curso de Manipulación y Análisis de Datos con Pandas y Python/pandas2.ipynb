{
 "cells": [
  {
   "cell_type": "code",
   "execution_count": 2,
   "id": "ad123e7c",
   "metadata": {},
   "outputs": [],
   "source": [
    "import pandas as pd\n"
   ]
  },
  {
   "cell_type": "code",
   "execution_count": 3,
   "id": "30f80850",
   "metadata": {},
   "outputs": [
    {
     "data": {
      "text/plain": [
       "0    10\n",
       "1     9\n",
       "2     8\n",
       "3     7\n",
       "4     6\n",
       "dtype: int64"
      ]
     },
     "execution_count": 3,
     "metadata": {},
     "output_type": "execute_result"
    }
   ],
   "source": [
    "pd.Series([10,9,8,7,6])"
   ]
  },
  {
   "cell_type": "code",
   "execution_count": 4,
   "id": "4b3c9b63",
   "metadata": {},
   "outputs": [],
   "source": [
    "j=pd.Series([10,9,8,7,6])\n"
   ]
  },
  {
   "cell_type": "code",
   "execution_count": 5,
   "id": "d4935f2b",
   "metadata": {},
   "outputs": [
    {
     "data": {
      "text/plain": [
       "array([10,  9,  8,  7,  6])"
      ]
     },
     "execution_count": 5,
     "metadata": {},
     "output_type": "execute_result"
    }
   ],
   "source": [
    "j.values"
   ]
  },
  {
   "cell_type": "code",
   "execution_count": 6,
   "id": "0ab466d5",
   "metadata": {},
   "outputs": [
    {
     "data": {
      "text/plain": [
       "RangeIndex(start=0, stop=5, step=1)"
      ]
     },
     "execution_count": 6,
     "metadata": {},
     "output_type": "execute_result"
    }
   ],
   "source": [
    "j.index"
   ]
  },
  {
   "cell_type": "code",
   "execution_count": 7,
   "id": "09217046",
   "metadata": {},
   "outputs": [
    {
     "data": {
      "text/plain": [
       "7"
      ]
     },
     "execution_count": 7,
     "metadata": {},
     "output_type": "execute_result"
    }
   ],
   "source": [
    "j[3]"
   ]
  },
  {
   "cell_type": "code",
   "execution_count": 8,
   "id": "bf2b96e2",
   "metadata": {},
   "outputs": [
    {
     "data": {
      "text/plain": [
       "(5,)"
      ]
     },
     "execution_count": 8,
     "metadata": {},
     "output_type": "execute_result"
    }
   ],
   "source": [
    "j.shape"
   ]
  },
  {
   "cell_type": "code",
   "execution_count": 9,
   "id": "7be6640e",
   "metadata": {},
   "outputs": [
    {
     "data": {
      "text/plain": [
       "7"
      ]
     },
     "execution_count": 9,
     "metadata": {},
     "output_type": "execute_result"
    }
   ],
   "source": [
    "j[3]"
   ]
  },
  {
   "cell_type": "code",
   "execution_count": 10,
   "id": "506c4056",
   "metadata": {},
   "outputs": [],
   "source": [
    "h=pd.Series([1,2,3,4])\n"
   ]
  },
  {
   "cell_type": "code",
   "execution_count": 11,
   "id": "7cfe401e",
   "metadata": {},
   "outputs": [
    {
     "data": {
      "text/plain": [
       "0    1\n",
       "1    2\n",
       "2    3\n",
       "3    4\n",
       "dtype: int64"
      ]
     },
     "execution_count": 11,
     "metadata": {},
     "output_type": "execute_result"
    }
   ],
   "source": [
    "h"
   ]
  },
  {
   "cell_type": "code",
   "execution_count": 12,
   "id": "4d287192",
   "metadata": {},
   "outputs": [
    {
     "data": {
      "text/plain": [
       "3    4\n",
       "1    2\n",
       "dtype: int64"
      ]
     },
     "execution_count": 12,
     "metadata": {},
     "output_type": "execute_result"
    }
   ],
   "source": [
    "#crea un alistas con pandas\n",
    "h[[3,1]]"
   ]
  },
  {
   "cell_type": "code",
   "execution_count": 13,
   "id": "a93bd564",
   "metadata": {},
   "outputs": [],
   "source": [
    "indi=pd.Series([1,2,3], index=['a','b','c'])"
   ]
  },
  {
   "cell_type": "code",
   "execution_count": 14,
   "id": "a547a063",
   "metadata": {},
   "outputs": [
    {
     "data": {
      "text/plain": [
       "a    1\n",
       "b    2\n",
       "c    3\n",
       "dtype: int64"
      ]
     },
     "execution_count": 14,
     "metadata": {},
     "output_type": "execute_result"
    }
   ],
   "source": [
    "#nuevo sistema de iindices con letras\n",
    "indi"
   ]
  },
  {
   "cell_type": "code",
   "execution_count": 20,
   "id": "3f545c58",
   "metadata": {},
   "outputs": [],
   "source": [
    "ini=pd.Series([1,2,3])"
   ]
  },
  {
   "cell_type": "code",
   "execution_count": 19,
   "id": "6db37798",
   "metadata": {},
   "outputs": [
    {
     "data": {
      "text/plain": [
       "0    1\n",
       "1    2\n",
       "2    3\n",
       "dtype: int64"
      ]
     },
     "execution_count": 19,
     "metadata": {},
     "output_type": "execute_result"
    }
   ],
   "source": [
    "ini"
   ]
  },
  {
   "cell_type": "code",
   "execution_count": 18,
   "id": "2a40538c",
   "metadata": {},
   "outputs": [
    {
     "data": {
      "text/plain": [
       "a    1\n",
       "b    2\n",
       "c    3\n",
       "dtype: int64"
      ]
     },
     "execution_count": 18,
     "metadata": {},
     "output_type": "execute_result"
    }
   ],
   "source": [
    "indi['a':'c']"
   ]
  },
  {
   "cell_type": "markdown",
   "id": "b840b120",
   "metadata": {},
   "source": []
  },
  {
   "cell_type": "code",
   "execution_count": 28,
   "id": "68f649de",
   "metadata": {},
   "outputs": [],
   "source": [
    "dicc = {'colombia':1000,'mexico':400}"
   ]
  },
  {
   "cell_type": "code",
   "execution_count": 31,
   "id": "6e3fd617",
   "metadata": {},
   "outputs": [
    {
     "data": {
      "text/plain": [
       "dict_keys(['colombia', 'mexico'])"
      ]
     },
     "execution_count": 31,
     "metadata": {},
     "output_type": "execute_result"
    }
   ],
   "source": [
    "dicc.keys()"
   ]
  },
  {
   "cell_type": "code",
   "execution_count": 33,
   "id": "135263b7",
   "metadata": {},
   "outputs": [
    {
     "data": {
      "text/plain": [
       "1000"
      ]
     },
     "execution_count": 33,
     "metadata": {},
     "output_type": "execute_result"
    }
   ],
   "source": [
    "dicc['colombia']"
   ]
  },
  {
   "cell_type": "code",
   "execution_count": 35,
   "id": "a48dc693",
   "metadata": {},
   "outputs": [
    {
     "data": {
      "text/plain": [
       "colombia    1000\n",
       "mexico       400\n",
       "dtype: int64"
      ]
     },
     "execution_count": 35,
     "metadata": {},
     "output_type": "execute_result"
    }
   ],
   "source": [
    "pd.Series(dicc)"
   ]
  },
  {
   "cell_type": "code",
   "execution_count": 37,
   "id": "ecc3afb5",
   "metadata": {},
   "outputs": [
    {
     "data": {
      "text/plain": [
       "colombia    1000.0\n",
       "mexico       400.0\n",
       "peru           NaN\n",
       "dtype: float64"
      ]
     },
     "execution_count": 37,
     "metadata": {},
     "output_type": "execute_result"
    }
   ],
   "source": [
    "#crea un anuea serie aunque lavarible valor es desconocia esta loasoscia a NaN\n",
    "pd.Series(dicc, index=['colombia', 'mexico', 'peru'])"
   ]
  },
  {
   "cell_type": "code",
   "execution_count": 39,
   "id": "59f7a814",
   "metadata": {},
   "outputs": [],
   "source": [
    "import numpy as np"
   ]
  },
  {
   "cell_type": "code",
   "execution_count": 41,
   "id": "4c19a689",
   "metadata": {},
   "outputs": [
    {
     "data": {
      "text/plain": [
       "nan"
      ]
     },
     "execution_count": 41,
     "metadata": {},
     "output_type": "execute_result"
    }
   ],
   "source": [
    "#numeorno definido\n",
    "np.nan"
   ]
  },
  {
   "cell_type": "code",
   "execution_count": 43,
   "id": "81f1c281",
   "metadata": {},
   "outputs": [],
   "source": [
    "sr= pd.Series(dicc, index=['colombia', 'mexico', 'peru'])"
   ]
  },
  {
   "cell_type": "code",
   "execution_count": 45,
   "id": "cfcabed8",
   "metadata": {},
   "outputs": [
    {
     "data": {
      "text/plain": [
       "colombia    False\n",
       "mexico      False\n",
       "peru         True\n",
       "dtype: bool"
      ]
     },
     "execution_count": 45,
     "metadata": {},
     "output_type": "execute_result"
    }
   ],
   "source": [
    "sr.isnull()"
   ]
  },
  {
   "cell_type": "code",
   "execution_count": 47,
   "id": "a340289e",
   "metadata": {},
   "outputs": [
    {
     "data": {
      "text/plain": [
       "colombia     True\n",
       "mexico       True\n",
       "peru        False\n",
       "dtype: bool"
      ]
     },
     "execution_count": 47,
     "metadata": {},
     "output_type": "execute_result"
    }
   ],
   "source": [
    "sr.notnull()"
   ]
  },
  {
   "cell_type": "code",
   "execution_count": 1,
   "id": "ab302ee9",
   "metadata": {},
   "outputs": [],
   "source": [
    "dic_data={\n",
    "    'edad': [10,9,13,14,12,11,12],\n",
    "    'cm': [112,110,130,155,155,120,125],\n",
    "    'pais': ['co','mex','co','mx','mex','ch','ch']\n",
    "}"
   ]
  },
  {
   "cell_type": "code",
   "execution_count": 2,
   "id": "690127af",
   "metadata": {},
   "outputs": [],
   "source": [
    "!mkdir jk10s\n"
   ]
  }
 ],
 "metadata": {
  "kernelspec": {
   "display_name": "Python 3 (ipykernel)",
   "language": "python",
   "name": "python3"
  },
  "language_info": {
   "codemirror_mode": {
    "name": "ipython",
    "version": 3
   },
   "file_extension": ".py",
   "mimetype": "text/x-python",
   "name": "python",
   "nbconvert_exporter": "python",
   "pygments_lexer": "ipython3",
   "version": "3.9.12"
  }
 },
 "nbformat": 4,
 "nbformat_minor": 5
}
