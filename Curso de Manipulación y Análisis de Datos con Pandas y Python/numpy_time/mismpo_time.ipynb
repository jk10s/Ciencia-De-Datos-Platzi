{
 "cells": [
  {
   "cell_type": "code",
   "execution_count": 1,
   "id": "a445341a",
   "metadata": {},
   "outputs": [
    {
     "name": "stdout",
     "output_type": "stream",
     "text": [
      "vector numpy\n",
      "Tipo objeto: <class 'numpy.ndarray'>\n",
      "suma: 49999995000000\n",
      "Tamaño vector: 78125.1015625\n",
      "Tiempo ejecución: 0.14905834197998047\n",
      "----------------------------\n",
      "lista\n",
      "Tipo objeto: <class 'list'>\n",
      "suma: 49999995000000\n",
      "Tamaño lista: 78125.0546875\n",
      "Tiempo ejecución: 0.46197986602783203\n"
     ]
    }
   ],
   "source": [
    "import numpy as np\n",
    "import time\n",
    "import sys\n",
    "\n",
    "tamaño = 10000000\n",
    "\n",
    "print(\"vector numpy\")\n",
    "t_vector = time.time()\n",
    "vector_numpy = np.arange(tamaño,dtype=\"int64\")\n",
    "suma_vector = vector_numpy.sum()\n",
    "print(\"Tipo objeto: \" + str(type(vector_numpy)))\n",
    "print(\"suma: \"+ str(suma_vector))\n",
    "print(\"Tamaño vector: \" +  str(sys.getsizeof(vector_numpy)/1024))\n",
    "print(\"Tiempo ejecución: \" + str(time.time()-t_vector))\n",
    "\n",
    "print(\"----------------------------\")\n",
    "\n",
    "print(\"lista\")\n",
    "t_lista = time.time()\n",
    "lista = list(range(tamaño))\n",
    "suma_lista = sum(lista)\n",
    "print(\"Tipo objeto: \" + str(type(lista)))\n",
    "print(\"suma: \"+ str(suma_lista))\n",
    "print(\"Tamaño lista: \" +  str(sys.getsizeof(lista)/1024))\n",
    "print(\"Tiempo ejecución: \" + str(time.time()-t_lista))"
   ]
  },
  {
   "cell_type": "code",
   "execution_count": 6,
   "id": "7da077ea",
   "metadata": {},
   "outputs": [
    {
     "data": {
      "text/plain": [
       "array([4, 5, 6])"
      ]
     },
     "execution_count": 6,
     "metadata": {},
     "output_type": "execute_result"
    }
   ],
   "source": [
    "escalar_0d = 10\n",
    "#1D\n",
    "vector_1d = np.array([1,2,3,4,5])\n",
    "#2D\n",
    "matriz_2d = np.array([[1,2,3],[4,5,6],[7,8,9]])\n",
    "#3D\n",
    "matriz_3d = np.array([[[1,2,3],[4,5,6],[7,8,9]],[[11,11,13],[14,15,16],[17,18,19]]])\n",
    "\n",
    "matriz_2d[1,:]"
   ]
  },
  {
   "cell_type": "code",
   "execution_count": 15,
   "id": "e72801f1",
   "metadata": {},
   "outputs": [
    {
     "data": {
      "text/plain": [
       "array([17, 18, 19])"
      ]
     },
     "execution_count": 15,
     "metadata": {},
     "output_type": "execute_result"
    }
   ],
   "source": [
    "matriz_3d[1,2]"
   ]
  }
 ],
 "metadata": {
  "kernelspec": {
   "display_name": "Python 3 (ipykernel)",
   "language": "python",
   "name": "python3"
  },
  "language_info": {
   "codemirror_mode": {
    "name": "ipython",
    "version": 3
   },
   "file_extension": ".py",
   "mimetype": "text/x-python",
   "name": "python",
   "nbconvert_exporter": "python",
   "pygments_lexer": "ipython3",
   "version": "3.9.12"
  }
 },
 "nbformat": 4,
 "nbformat_minor": 5
}
