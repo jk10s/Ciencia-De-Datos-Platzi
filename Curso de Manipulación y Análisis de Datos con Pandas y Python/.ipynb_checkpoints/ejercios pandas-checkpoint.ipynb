{
 "cells": [
  {
   "cell_type": "code",
   "execution_count": 2,
   "id": "a388ac3a",
   "metadata": {},
   "outputs": [],
   "source": [
    "import pandas as pd\n",
    "import numpy as np\n",
    "\n",
    "inicio = int(input('Introduce el año inicial: '))\n",
    "fin = int(input('Introduce el año final: '))\n",
    "ventas = {}\n",
    "for i in range(inicio, fin+1):\n",
    "    ventas[i] = float(input('Introduce las ventas del año ' + str(i) +': '))\n",
    "ventas = pd.Series(ventas)\n",
    "print('Ventas\\n', ventas)\n",
    "print('Ventas con descuento\\n', ventas*0.9)\n"
   ]
  },
  {
   "cell_type": "code",
   "execution_count": null,
   "id": "70341755",
   "metadata": {},
   "outputs": [],
   "source": []
  },
  {
   "cell_type": "code",
   "execution_count": 1,
   "id": "04670678",
   "metadata": {},
   "outputs": [
    {
     "ename": "NameError",
     "evalue": "name 'np' is not defined",
     "output_type": "error",
     "traceback": [
      "\u001b[0;31m---------------------------------------------------------------------------\u001b[0m",
      "\u001b[0;31mNameError\u001b[0m                                 Traceback (most recent call last)",
      "Input \u001b[0;32mIn [1]\u001b[0m, in \u001b[0;36m<cell line: 1>\u001b[0;34m()\u001b[0m\n\u001b[0;32m----> 1\u001b[0m one\u001b[38;5;241m=\u001b[39m \u001b[43mnp\u001b[49m\u001b[38;5;241m.\u001b[39marray([\u001b[38;5;241m2\u001b[39m,\u001b[38;5;241m3\u001b[39m,\u001b[38;5;241m4\u001b[39m])\n\u001b[1;32m      2\u001b[0m \u001b[38;5;28mprint\u001b[39m(one)\n\u001b[1;32m      3\u001b[0m \u001b[38;5;28mprint\u001b[39m(\u001b[38;5;28mtype\u001b[39m(one))\n",
      "\u001b[0;31mNameError\u001b[0m: name 'np' is not defined"
     ]
    }
   ],
   "source": [
    "\n",
    "one= np.array([2,3,4])\n",
    "print(one)\n",
    "print(type(one))\n",
    "print(one.ndim)"
   ]
  },
  {
   "cell_type": "code",
   "execution_count": 13,
   "id": "a07ba7fc",
   "metadata": {},
   "outputs": [
    {
     "name": "stdout",
     "output_type": "stream",
     "text": [
      "[[2 3 4]\n",
      " [6 7 8]]\n",
      "<class 'numpy.ndarray'>\n",
      "2\n"
     ]
    }
   ],
   "source": [
    "dos= np.array([[2,3,4],[6,7,8]])\n",
    "print(dos)\n",
    "print(type(dos))\n",
    "print(dos.ndim)"
   ]
  },
  {
   "cell_type": "code",
   "execution_count": 20,
   "id": "26e7a4d3",
   "metadata": {},
   "outputs": [
    {
     "name": "stdout",
     "output_type": "stream",
     "text": [
      "[[[ 1  2  3]\n",
      "  [ 1  2  3]]\n",
      "\n",
      " [[ 4  5  6]\n",
      "  [-4 -5 -6]]]\n",
      "<class 'numpy.ndarray'>\n",
      "3\n"
     ]
    }
   ],
   "source": [
    "tres= np.array([[[1,2,3],[11,-2,-3]],[[4,5,6],[-4,-5,-6]]])\n",
    "print(tres)\n",
    "print(type(tres))\n",
    "print(tres.ndim)"
   ]
  },
  {
   "cell_type": "code",
   "execution_count": 26,
   "id": "00945672",
   "metadata": {},
   "outputs": [
    {
     "name": "stdout",
     "output_type": "stream",
     "text": [
      "1\n"
     ]
    }
   ],
   "source": [
    "print(tres[0,0,0])"
   ]
  },
  {
   "cell_type": "code",
   "execution_count": 30,
   "id": "d786a762",
   "metadata": {},
   "outputs": [
    {
     "name": "stdout",
     "output_type": "stream",
     "text": [
      "[-4 -5 -6]\n"
     ]
    }
   ],
   "source": [
    "print(tres[1,1])"
   ]
  },
  {
   "cell_type": "code",
   "execution_count": 32,
   "id": "3797dba7",
   "metadata": {},
   "outputs": [
    {
     "name": "stdout",
     "output_type": "stream",
     "text": [
      "[11 -2 -3]\n"
     ]
    }
   ],
   "source": [
    "tt= np.array([[[1,2,3],[11,-2,-3]],[[4,5,6],[-4,-5,-6]]])\n",
    "print(tt[0,1])"
   ]
  },
  {
   "cell_type": "code",
   "execution_count": 34,
   "id": "75adc79f",
   "metadata": {},
   "outputs": [
    {
     "name": "stdout",
     "output_type": "stream",
     "text": [
      "[1 2 3]\n",
      "[4 5 6]\n"
     ]
    }
   ],
   "source": [
    "dosarray= np.array([[1,2,3],[4,5,6]])\n",
    "for x in dosarray:\n",
    "    print(x)"
   ]
  },
  {
   "cell_type": "code",
   "execution_count": 35,
   "id": "07458c95",
   "metadata": {},
   "outputs": [
    {
     "name": "stdout",
     "output_type": "stream",
     "text": [
      "1\n",
      "2\n",
      "3\n",
      "4\n",
      "5\n",
      "6\n"
     ]
    }
   ],
   "source": [
    "for y in dosarray:\n",
    "    for k in y:\n",
    "        print(k)"
   ]
  },
  {
   "cell_type": "code",
   "execution_count": 40,
   "id": "0b803f7b",
   "metadata": {},
   "outputs": [
    {
     "name": "stdout",
     "output_type": "stream",
     "text": [
      "1\n",
      "2\n",
      "3\n",
      "11\n",
      "-2\n",
      "-3\n",
      "4\n",
      "5\n",
      "6\n",
      "-4\n",
      "-5\n",
      "-6\n"
     ]
    }
   ],
   "source": [
    "g= np.array([[[1,2,3],[11,-2,-3]],[[4,5,6],[-4,-5,-6]]])\n",
    "for i in g:\n",
    "    for x in i:\n",
    "        for j in x:\n",
    "            print(j)"
   ]
  },
  {
   "cell_type": "code",
   "execution_count": 41,
   "id": "a2a2638c",
   "metadata": {},
   "outputs": [
    {
     "name": "stdout",
     "output_type": "stream",
     "text": [
      "[0. 0. 0. 0. 0. 0. 0. 0. 0. 0.]\n"
     ]
    }
   ],
   "source": [
    "zeroarray=np.zeros(10)\n",
    "print(zeroarray)"
   ]
  },
  {
   "cell_type": "code",
   "execution_count": 42,
   "id": "a3eb4f75",
   "metadata": {},
   "outputs": [
    {
     "name": "stdout",
     "output_type": "stream",
     "text": [
      "[0 0 0 0 0 0 0 0 0 0]\n"
     ]
    }
   ],
   "source": [
    "zeroarray= zeroarray.astype(int)\n",
    "print(zeroarray)\n",
    "                        "
   ]
  },
  {
   "cell_type": "code",
   "execution_count": 44,
   "id": "f4dba59e",
   "metadata": {},
   "outputs": [
    {
     "name": "stdout",
     "output_type": "stream",
     "text": [
      "[1. 1. 1. 1. 1. 1. 1. 1. 1. 1.]\n"
     ]
    }
   ],
   "source": [
    "onesArray= np.ones(10)\n",
    "print(onesArray)"
   ]
  },
  {
   "cell_type": "code",
   "execution_count": 46,
   "id": "a04eab30",
   "metadata": {},
   "outputs": [
    {
     "name": "stdout",
     "output_type": "stream",
     "text": [
      "[4]\n"
     ]
    }
   ],
   "source": [
    "prefillarray= np.full(1,4)\n",
    "print(prefillarray)"
   ]
  },
  {
   "cell_type": "code",
   "execution_count": 51,
   "id": "44125b08",
   "metadata": {},
   "outputs": [
    {
     "name": "stdout",
     "output_type": "stream",
     "text": [
      "[[1 2 3]\n",
      " [4 5 6]]\n",
      "[[3 4 5]\n",
      " [6 7 8]]\n"
     ]
    }
   ],
   "source": [
    "matrix= np.array([[1,2,3],[4,5,6]])\n",
    "print(matrix)\n",
    "print(matrix+2)"
   ]
  },
  {
   "cell_type": "code",
   "execution_count": 55,
   "id": "86d7784c",
   "metadata": {},
   "outputs": [
    {
     "name": "stdout",
     "output_type": "stream",
     "text": [
      "[[-1  0  1]\n",
      " [ 2  3  4]]\n"
     ]
    }
   ],
   "source": [
    "print(matrix-2)"
   ]
  },
  {
   "cell_type": "code",
   "execution_count": 53,
   "id": "bf90f51a",
   "metadata": {
    "scrolled": true
   },
   "outputs": [
    {
     "name": "stdout",
     "output_type": "stream",
     "text": [
      "[[3 4 5]\n",
      " [6 7 8]]\n"
     ]
    }
   ],
   "source": [
    "print(matrix+2)"
   ]
  },
  {
   "cell_type": "code",
   "execution_count": 56,
   "id": "8c665c21",
   "metadata": {},
   "outputs": [
    {
     "name": "stdout",
     "output_type": "stream",
     "text": [
      "[[0.5 1.  1.5]\n",
      " [2.  2.5 3. ]]\n",
      "[[1 2 3]\n",
      " [4 5 6]]\n"
     ]
    }
   ],
   "source": [
    "print(matrix/2)\n",
    "print(matrix)"
   ]
  },
  {
   "cell_type": "code",
   "execution_count": 57,
   "id": "6013f7ea",
   "metadata": {},
   "outputs": [
    {
     "name": "stdout",
     "output_type": "stream",
     "text": [
      "[[ 1  4  9]\n",
      " [16 25 36]]\n"
     ]
    }
   ],
   "source": [
    "print(matrix**2)"
   ]
  },
  {
   "cell_type": "code",
   "execution_count": 58,
   "id": "9718f6cf",
   "metadata": {},
   "outputs": [
    {
     "name": "stdout",
     "output_type": "stream",
     "text": [
      "[[1 4]\n",
      " [2 5]\n",
      " [3 6]]\n"
     ]
    }
   ],
   "source": [
    "\n",
    "print(matrix.T)"
   ]
  },
  {
   "cell_type": "code",
   "execution_count": null,
   "id": "3032a59f",
   "metadata": {},
   "outputs": [],
   "source": [
    "numpy.transponer "
   ]
  }
 ],
 "metadata": {
  "kernelspec": {
   "display_name": "Python 3 (ipykernel)",
   "language": "python",
   "name": "python3"
  },
  "language_info": {
   "codemirror_mode": {
    "name": "ipython",
    "version": 3
   },
   "file_extension": ".py",
   "mimetype": "text/x-python",
   "name": "python",
   "nbconvert_exporter": "python",
   "pygments_lexer": "ipython3",
   "version": "3.9.12"
  },
  "vscode": {
   "interpreter": {
    "hash": "916dbcbb3f70747c44a77c7bcd40155683ae19c65e1c03b4aa3499c5328201f1"
   }
  }
 },
 "nbformat": 4,
 "nbformat_minor": 5
}
