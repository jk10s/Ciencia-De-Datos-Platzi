{
 "cells": [
  {
   "cell_type": "code",
   "execution_count": 2,
   "id": "a388ac3a",
   "metadata": {},
   "outputs": [
    {
     "name": "stdout",
     "output_type": "stream",
     "text": [
      "Introduce el año inicial: 1\n",
      "Introduce el año final: 2\n",
      "Introduce las ventas del año 1: 3\n",
      "Introduce las ventas del año 2: 4\n",
      "Ventas\n",
      " 1    3.0\n",
      "2    4.0\n",
      "dtype: float64\n",
      "Ventas con descuento\n",
      " 1    2.7\n",
      "2    3.6\n",
      "dtype: float64\n"
     ]
    }
   ],
   "source": [
    "import pandas as pd\n",
    "import numpy as np\n",
    "\n",
    "inicio = int(input('Introduce el año inicial: '))\n",
    "fin = int(input('Introduce el año final: '))\n",
    "ventas = {}\n",
    "for i in range(inicio, fin+1):\n",
    "    ventas[i] = float(input('Introduce las ventas del año ' + str(i) +': '))\n",
    "ventas = pd.Series(ventas)\n",
    "print('Ventas\\n', ventas)\n",
    "print('Ventas con descuento\\n', ventas*0.9)\n"
   ]
  },
  {
   "cell_type": "code",
   "execution_count": 22,
   "id": "04670678",
   "metadata": {},
   "outputs": [
    {
     "name": "stdout",
     "output_type": "stream",
     "text": [
      "[2 3 4]\n",
      "<class 'numpy.ndarray'>\n",
      "1\n"
     ]
    }
   ],
   "source": [
    "\n",
    "one= np.array([2,3,4])\n",
    "print(one)\n",
    "print(type(one))\n",
    "print(one.ndim)"
   ]
  },
  {
   "cell_type": "code",
   "execution_count": 23,
   "id": "a07ba7fc",
   "metadata": {},
   "outputs": [
    {
     "name": "stdout",
     "output_type": "stream",
     "text": [
      "[[2 3 4]\n",
      " [6 7 8]]\n",
      "<class 'numpy.ndarray'>\n",
      "2\n"
     ]
    }
   ],
   "source": [
    "dos= np.array([[2,3,4],[6,7,8]])\n",
    "print(dos)\n",
    "print(type(dos))\n",
    "print(dos.ndim)"
   ]
  },
  {
   "cell_type": "code",
   "execution_count": 24,
   "id": "26e7a4d3",
   "metadata": {},
   "outputs": [
    {
     "name": "stdout",
     "output_type": "stream",
     "text": [
      "[[[ 1  2  3]\n",
      "  [11 -2 -3]]\n",
      "\n",
      " [[ 4  5  6]\n",
      "  [-4 -5 -6]]]\n",
      "<class 'numpy.ndarray'>\n",
      "3\n"
     ]
    }
   ],
   "source": [
    "tres= np.array([[[1,2,3],[11,-2,-3]],[[4,5,6],[-4,-5,-6]]])\n",
    "print(tres)\n",
    "print(type(tres))\n",
    "print(tres.ndim)"
   ]
  },
  {
   "cell_type": "code",
   "execution_count": 25,
   "id": "00945672",
   "metadata": {},
   "outputs": [
    {
     "name": "stdout",
     "output_type": "stream",
     "text": [
      "1\n"
     ]
    }
   ],
   "source": [
    "print(tres[0,0,0])"
   ]
  },
  {
   "cell_type": "code",
   "execution_count": 26,
   "id": "d786a762",
   "metadata": {},
   "outputs": [
    {
     "name": "stdout",
     "output_type": "stream",
     "text": [
      "[-4 -5 -6]\n"
     ]
    }
   ],
   "source": [
    "print(tres[1,1])"
   ]
  },
  {
   "cell_type": "code",
   "execution_count": 27,
   "id": "3797dba7",
   "metadata": {},
   "outputs": [
    {
     "name": "stdout",
     "output_type": "stream",
     "text": [
      "[11 -2 -3]\n"
     ]
    }
   ],
   "source": [
    "tt= np.array([[[1,2,3],[11,-2,-3]],[[4,5,6],[-4,-5,-6]]])\n",
    "print(tt[0,1])"
   ]
  },
  {
   "cell_type": "code",
   "execution_count": 28,
   "id": "75adc79f",
   "metadata": {},
   "outputs": [
    {
     "name": "stdout",
     "output_type": "stream",
     "text": [
      "[1 2 3]\n",
      "[4 5 6]\n"
     ]
    }
   ],
   "source": [
    "dosarray= np.array([[1,2,3],[4,5,6]])\n",
    "for x in dosarray:\n",
    "    print(x)"
   ]
  },
  {
   "cell_type": "code",
   "execution_count": 29,
   "id": "07458c95",
   "metadata": {},
   "outputs": [
    {
     "name": "stdout",
     "output_type": "stream",
     "text": [
      "1\n",
      "2\n",
      "3\n",
      "4\n",
      "5\n",
      "6\n"
     ]
    }
   ],
   "source": [
    "for y in dosarray:\n",
    "    for k in y:\n",
    "        print(k)"
   ]
  },
  {
   "cell_type": "code",
   "execution_count": 30,
   "id": "0b803f7b",
   "metadata": {},
   "outputs": [
    {
     "name": "stdout",
     "output_type": "stream",
     "text": [
      "1\n",
      "2\n",
      "3\n",
      "11\n",
      "-2\n",
      "-3\n",
      "4\n",
      "5\n",
      "6\n",
      "-4\n",
      "-5\n",
      "-6\n"
     ]
    }
   ],
   "source": [
    "g= np.array([[[1,2,3],[11,-2,-3]],[[4,5,6],[-4,-5,-6]]])\n",
    "for i in g:\n",
    "    for x in i:\n",
    "        for j in x:\n",
    "            print(j)"
   ]
  },
  {
   "cell_type": "code",
   "execution_count": 113,
   "id": "e13125f8",
   "metadata": {},
   "outputs": [
    {
     "data": {
      "text/plain": [
       "array([0., 0., 0., 0., 0., 0., 0., 0.])"
      ]
     },
     "execution_count": 113,
     "metadata": {},
     "output_type": "execute_result"
    }
   ],
   "source": [
    "np.zeros(8)"
   ]
  },
  {
   "cell_type": "code",
   "execution_count": 115,
   "id": "a27ba698",
   "metadata": {},
   "outputs": [
    {
     "data": {
      "text/plain": [
       "array([1., 1., 1.])"
      ]
     },
     "execution_count": 115,
     "metadata": {},
     "output_type": "execute_result"
    }
   ],
   "source": [
    "np.ones(3)"
   ]
  },
  {
   "cell_type": "code",
   "execution_count": 112,
   "id": "1610021a",
   "metadata": {},
   "outputs": [
    {
     "name": "stdout",
     "output_type": "stream",
     "text": [
      "3\n"
     ]
    }
   ],
   "source": [
    "print(g.ndim)"
   ]
  },
  {
   "cell_type": "code",
   "execution_count": 31,
   "id": "a2a2638c",
   "metadata": {},
   "outputs": [
    {
     "name": "stdout",
     "output_type": "stream",
     "text": [
      "[0. 0. 0. 0. 0. 0. 0. 0. 0. 0.]\n"
     ]
    }
   ],
   "source": [
    "zeroarray=np.zeros(10)\n",
    "print(zeroarray)"
   ]
  },
  {
   "cell_type": "code",
   "execution_count": 32,
   "id": "a3eb4f75",
   "metadata": {},
   "outputs": [
    {
     "name": "stdout",
     "output_type": "stream",
     "text": [
      "[0 0 0 0 0 0 0 0 0 0]\n"
     ]
    }
   ],
   "source": [
    "zeroarray= zeroarray.astype(int)\n",
    "print(zeroarray)\n",
    "                        "
   ]
  },
  {
   "cell_type": "code",
   "execution_count": 33,
   "id": "f4dba59e",
   "metadata": {},
   "outputs": [
    {
     "name": "stdout",
     "output_type": "stream",
     "text": [
      "[1. 1. 1. 1. 1. 1. 1. 1. 1. 1.]\n"
     ]
    }
   ],
   "source": [
    "onesArray= np.ones(10)\n",
    "print(onesArray)"
   ]
  },
  {
   "cell_type": "code",
   "execution_count": 139,
   "id": "a04eab30",
   "metadata": {},
   "outputs": [
    {
     "name": "stdout",
     "output_type": "stream",
     "text": [
      "[0 0 0 0 0 0 0 0 0 0]\n"
     ]
    }
   ],
   "source": [
    "prefillarray= np.full(10,0)\n",
    "print(prefillarray)"
   ]
  },
  {
   "cell_type": "code",
   "execution_count": 35,
   "id": "44125b08",
   "metadata": {},
   "outputs": [
    {
     "name": "stdout",
     "output_type": "stream",
     "text": [
      "[[1 2 3]\n",
      " [4 5 6]]\n",
      "\n",
      "[[3 4 5]\n",
      " [6 7 8]]\n"
     ]
    }
   ],
   "source": [
    "matrix= np.array([[1,2,3],[4,5,6]])\n",
    "print(matrix)\n",
    "print()\n",
    "print(matrix+2)"
   ]
  },
  {
   "cell_type": "code",
   "execution_count": 36,
   "id": "86d7784c",
   "metadata": {},
   "outputs": [
    {
     "name": "stdout",
     "output_type": "stream",
     "text": [
      "[[-1  0  1]\n",
      " [ 2  3  4]]\n"
     ]
    }
   ],
   "source": [
    "print(matrix-2)"
   ]
  },
  {
   "cell_type": "code",
   "execution_count": 37,
   "id": "bf90f51a",
   "metadata": {
    "scrolled": true
   },
   "outputs": [
    {
     "name": "stdout",
     "output_type": "stream",
     "text": [
      "[[3 4 5]\n",
      " [6 7 8]]\n"
     ]
    }
   ],
   "source": [
    "print(matrix+2)"
   ]
  },
  {
   "cell_type": "code",
   "execution_count": 38,
   "id": "8c665c21",
   "metadata": {},
   "outputs": [
    {
     "name": "stdout",
     "output_type": "stream",
     "text": [
      "[[0.5 1.  1.5]\n",
      " [2.  2.5 3. ]]\n",
      "[[1 2 3]\n",
      " [4 5 6]]\n"
     ]
    }
   ],
   "source": [
    "print(matrix/2)\n",
    "print(matrix)"
   ]
  },
  {
   "cell_type": "code",
   "execution_count": 39,
   "id": "6013f7ea",
   "metadata": {},
   "outputs": [
    {
     "name": "stdout",
     "output_type": "stream",
     "text": [
      "[[ 1  4  9]\n",
      " [16 25 36]]\n"
     ]
    }
   ],
   "source": [
    "print(matrix**2)"
   ]
  },
  {
   "cell_type": "code",
   "execution_count": 40,
   "id": "345a3ec4",
   "metadata": {},
   "outputs": [
    {
     "ename": "NameError",
     "evalue": "name 'numpy' is not defined",
     "output_type": "error",
     "traceback": [
      "\u001b[0;31m---------------------------------------------------------------------------\u001b[0m",
      "\u001b[0;31mNameError\u001b[0m                                 Traceback (most recent call last)",
      "Input \u001b[0;32mIn [40]\u001b[0m, in \u001b[0;36m<cell line: 1>\u001b[0;34m()\u001b[0m\n\u001b[0;32m----> 1\u001b[0m \u001b[43mnumpy\u001b[49m\u001b[38;5;241m.\u001b[39mtransponer\n",
      "\u001b[0;31mNameError\u001b[0m: name 'numpy' is not defined"
     ]
    }
   ],
   "source": [
    "numpy.transponer "
   ]
  },
  {
   "cell_type": "code",
   "execution_count": 41,
   "id": "9718f6cf",
   "metadata": {},
   "outputs": [
    {
     "name": "stdout",
     "output_type": "stream",
     "text": [
      "[[1 4]\n",
      " [2 5]\n",
      " [3 6]]\n"
     ]
    }
   ],
   "source": [
    "\n",
    "print(matrix.T)"
   ]
  },
  {
   "cell_type": "code",
   "execution_count": 42,
   "id": "d02ef129",
   "metadata": {},
   "outputs": [
    {
     "name": "stdout",
     "output_type": "stream",
     "text": [
      "[[1 2 3]\n",
      " [4 5 6]]\n"
     ]
    }
   ],
   "source": [
    "matrix11=np.array([[1,2,3],[4,5,6]])\n",
    "print(matrix11)"
   ]
  },
  {
   "cell_type": "code",
   "execution_count": 43,
   "id": "f0ed81ab",
   "metadata": {},
   "outputs": [
    {
     "name": "stdout",
     "output_type": "stream",
     "text": [
      "[[-1 -2 -3]\n",
      " [-4 -5 -6]]\n"
     ]
    }
   ],
   "source": [
    "matrix22=np.array([[-1,-2,-3],[-4,-5,-6]])\n",
    "print(matrix22)"
   ]
  },
  {
   "cell_type": "code",
   "execution_count": 44,
   "id": "6b52e6ad",
   "metadata": {},
   "outputs": [
    {
     "name": "stdout",
     "output_type": "stream",
     "text": [
      "[[0 0 0]\n",
      " [0 0 0]]\n"
     ]
    }
   ],
   "source": [
    "print(matrix11 + matrix22)"
   ]
  },
  {
   "cell_type": "code",
   "execution_count": 45,
   "id": "f70f3209",
   "metadata": {},
   "outputs": [
    {
     "name": "stdout",
     "output_type": "stream",
     "text": [
      "[[ 2  4  6]\n",
      " [ 8 10 12]]\n"
     ]
    }
   ],
   "source": [
    "print(matrix11 - matrix22)"
   ]
  },
  {
   "cell_type": "code",
   "execution_count": 46,
   "id": "ce23223d",
   "metadata": {},
   "outputs": [
    {
     "name": "stdout",
     "output_type": "stream",
     "text": [
      "[[-1. -1. -1.]\n",
      " [-1. -1. -1.]]\n"
     ]
    }
   ],
   "source": [
    "print(matrix11 / matrix22)"
   ]
  },
  {
   "cell_type": "code",
   "execution_count": 47,
   "id": "e8cee765",
   "metadata": {},
   "outputs": [
    {
     "name": "stdout",
     "output_type": "stream",
     "text": [
      "[[-1 -1 -1]\n",
      " [-1 -1 -1]]\n"
     ]
    }
   ],
   "source": [
    "print(matrix11 // matrix22)"
   ]
  },
  {
   "cell_type": "code",
   "execution_count": 48,
   "id": "118cf2df",
   "metadata": {},
   "outputs": [
    {
     "name": "stdout",
     "output_type": "stream",
     "text": [
      "[[1 2 3]\n",
      " [4 5 6]\n",
      " [0 0 0]]\n"
     ]
    }
   ],
   "source": [
    "matrixk=np.array([[1,2,3],[4,5,6],[0,0,0]])\n",
    "print(matrixk)"
   ]
  },
  {
   "cell_type": "code",
   "execution_count": 49,
   "id": "cbb01e20",
   "metadata": {},
   "outputs": [
    {
     "name": "stdout",
     "output_type": "stream",
     "text": [
      "[[-1 -2 -3]\n",
      " [-4 -5 -6]\n",
      " [ 0  0  0]]\n"
     ]
    }
   ],
   "source": [
    "matrixl=np.array([[-1,-2,-3],[-4,-5,-6],[0,0,0]])\n",
    "print(matrixl)"
   ]
  },
  {
   "cell_type": "code",
   "execution_count": 50,
   "id": "9d3048ed",
   "metadata": {},
   "outputs": [
    {
     "name": "stdout",
     "output_type": "stream",
     "text": [
      "[[-1 -2 -3]\n",
      " [-4 -5 -6]\n",
      " [ 0  0  0]] [[1 2 3]\n",
      " [4 5 6]\n",
      " [0 0 0]]\n"
     ]
    }
   ],
   "source": [
    "print(matrixl,matrixk)"
   ]
  },
  {
   "cell_type": "code",
   "execution_count": 51,
   "id": "758d64c6",
   "metadata": {},
   "outputs": [
    {
     "data": {
      "text/plain": [
       "array([[ -9, -12, -15],\n",
       "       [-24, -33, -42],\n",
       "       [  0,   0,   0]])"
      ]
     },
     "execution_count": 51,
     "metadata": {},
     "output_type": "execute_result"
    }
   ],
   "source": [
    "np.matmul(matrixk,matrixl)"
   ]
  },
  {
   "cell_type": "code",
   "execution_count": 52,
   "id": "c11419bc",
   "metadata": {},
   "outputs": [
    {
     "name": "stdout",
     "output_type": "stream",
     "text": [
      "11\n"
     ]
    }
   ],
   "source": [
    "a= np.array([1,2])\n",
    "b= np.array([3,4])\n",
    "resulatado= np.dot(a,b)\n",
    "print(resulatado)"
   ]
  },
  {
   "cell_type": "code",
   "execution_count": 53,
   "id": "12f0eafd",
   "metadata": {},
   "outputs": [
    {
     "data": {
      "text/plain": [
       "4"
      ]
     },
     "execution_count": 53,
     "metadata": {},
     "output_type": "execute_result"
    }
   ],
   "source": [
    "minimo = np.array([10,4,5])\n",
    "np.min(minimo)"
   ]
  },
  {
   "cell_type": "code",
   "execution_count": 54,
   "id": "28fb89f0",
   "metadata": {},
   "outputs": [
    {
     "data": {
      "text/plain": [
       "19"
      ]
     },
     "execution_count": 54,
     "metadata": {},
     "output_type": "execute_result"
    }
   ],
   "source": [
    "np.sum(minimo)"
   ]
  },
  {
   "cell_type": "code",
   "execution_count": 55,
   "id": "f584d328",
   "metadata": {},
   "outputs": [
    {
     "name": "stdout",
     "output_type": "stream",
     "text": [
      "19\n"
     ]
    }
   ],
   "source": [
    "print(sum(minimo))"
   ]
  },
  {
   "cell_type": "code",
   "execution_count": 56,
   "id": "32cb20af",
   "metadata": {},
   "outputs": [
    {
     "data": {
      "text/plain": [
       "10"
      ]
     },
     "execution_count": 56,
     "metadata": {},
     "output_type": "execute_result"
    }
   ],
   "source": [
    "np.max(minimo)"
   ]
  },
  {
   "cell_type": "code",
   "execution_count": 57,
   "id": "f9fc101f",
   "metadata": {},
   "outputs": [
    {
     "name": "stdout",
     "output_type": "stream",
     "text": [
      "10\n"
     ]
    }
   ],
   "source": [
    "print(max(minimo))"
   ]
  },
  {
   "cell_type": "code",
   "execution_count": 58,
   "id": "708620c3",
   "metadata": {},
   "outputs": [
    {
     "data": {
      "text/plain": [
       "6.333333333333333"
      ]
     },
     "execution_count": 58,
     "metadata": {},
     "output_type": "execute_result"
    }
   ],
   "source": [
    "np.mean(minimo)"
   ]
  },
  {
   "cell_type": "code",
   "execution_count": 59,
   "id": "1ccbc3bf",
   "metadata": {},
   "outputs": [
    {
     "data": {
      "text/plain": [
       "2.6246692913372702"
      ]
     },
     "execution_count": 59,
     "metadata": {},
     "output_type": "execute_result"
    }
   ],
   "source": [
    "np.std(minimo)"
   ]
  },
  {
   "cell_type": "code",
   "execution_count": 60,
   "id": "2db2cecf",
   "metadata": {},
   "outputs": [
    {
     "name": "stdout",
     "output_type": "stream",
     "text": [
      "[6 2 3 1]\n"
     ]
    },
    {
     "data": {
      "text/plain": [
       "1.8708286933869707"
      ]
     },
     "execution_count": 60,
     "metadata": {},
     "output_type": "execute_result"
    }
   ],
   "source": [
    "desviacion= np.array([6,2,3,1])\n",
    "print(desviacion)\n",
    "np.std(desviacion)"
   ]
  },
  {
   "cell_type": "code",
   "execution_count": 61,
   "id": "60ea474f",
   "metadata": {},
   "outputs": [
    {
     "name": "stdout",
     "output_type": "stream",
     "text": [
      "[6 2 3 1]\n"
     ]
    }
   ],
   "source": [
    "print(desviacion)\n"
   ]
  },
  {
   "cell_type": "code",
   "execution_count": 62,
   "id": "fb3e7430",
   "metadata": {},
   "outputs": [
    {
     "name": "stdout",
     "output_type": "stream",
     "text": [
      "[1 2 3]\n"
     ]
    }
   ],
   "source": [
    "vida= np.array([1,2,3])\n",
    "print(vida)"
   ]
  },
  {
   "cell_type": "code",
   "execution_count": 63,
   "id": "67ab4096",
   "metadata": {},
   "outputs": [
    {
     "name": "stdout",
     "output_type": "stream",
     "text": [
      "1\n"
     ]
    }
   ],
   "source": [
    "print(vida.ndim)"
   ]
  },
  {
   "cell_type": "code",
   "execution_count": 64,
   "id": "599614c1",
   "metadata": {},
   "outputs": [
    {
     "name": "stdout",
     "output_type": "stream",
     "text": [
      "2\n"
     ]
    }
   ],
   "source": [
    "doss=np.array([[10,20,30],[50,60,70]])\n",
    "print(doss.ndim)"
   ]
  },
  {
   "cell_type": "code",
   "execution_count": 71,
   "id": "9efe3bb4",
   "metadata": {},
   "outputs": [
    {
     "name": "stdout",
     "output_type": "stream",
     "text": [
      "[[[11 22 33]\n",
      "  [44 55 66]]\n",
      "\n",
      " [[88 99 90]\n",
      "  [77 67 87]]]\n"
     ]
    }
   ],
   "source": [
    "tress=np.array([[[11,22,33],[44,55,66]],[[88,99,90],[77,67,87]]])\n",
    "print(tress)"
   ]
  },
  {
   "cell_type": "code",
   "execution_count": 72,
   "id": "188e5390",
   "metadata": {},
   "outputs": [
    {
     "name": "stdout",
     "output_type": "stream",
     "text": [
      "3\n"
     ]
    }
   ],
   "source": [
    "print(tress.ndim)"
   ]
  },
  {
   "cell_type": "code",
   "execution_count": 73,
   "id": "5093d534",
   "metadata": {},
   "outputs": [
    {
     "name": "stdout",
     "output_type": "stream",
     "text": [
      "[44 55 66]\n"
     ]
    }
   ],
   "source": [
    "print(tress[0,1])"
   ]
  },
  {
   "cell_type": "code",
   "execution_count": 75,
   "id": "cdc3f5c6",
   "metadata": {},
   "outputs": [
    {
     "name": "stdout",
     "output_type": "stream",
     "text": [
      "[88 99 90]\n"
     ]
    }
   ],
   "source": [
    "print(tress[1,0])"
   ]
  },
  {
   "cell_type": "code",
   "execution_count": 76,
   "id": "52a40bdb",
   "metadata": {},
   "outputs": [
    {
     "name": "stdout",
     "output_type": "stream",
     "text": [
      "[[[ 12  23  34]\n",
      "  [ 45  56  67]]\n",
      "\n",
      " [[ 89 100  91]\n",
      "  [ 78  68  88]]]\n"
     ]
    }
   ],
   "source": [
    "print(tress+1)"
   ]
  },
  {
   "cell_type": "code",
   "execution_count": 78,
   "id": "4de50d05",
   "metadata": {},
   "outputs": [
    {
     "name": "stdout",
     "output_type": "stream",
     "text": [
      "[[[ 9 20 31]\n",
      "  [42 53 64]]\n",
      "\n",
      " [[86 97 88]\n",
      "  [75 65 85]]]\n"
     ]
    }
   ],
   "source": [
    "print(tress-2)"
   ]
  },
  {
   "cell_type": "code",
   "execution_count": 100,
   "id": "1b9b4833",
   "metadata": {},
   "outputs": [
    {
     "name": "stdout",
     "output_type": "stream",
     "text": [
      "[[1 2 3]\n",
      " [4 5 6]]\n"
     ]
    }
   ],
   "source": [
    "matrixa=np.array([[1,2,3],[4,5,6]])\n",
    "print(matrixa)\n"
   ]
  },
  {
   "cell_type": "code",
   "execution_count": 92,
   "id": "0b69d2d2",
   "metadata": {},
   "outputs": [
    {
     "name": "stdout",
     "output_type": "stream",
     "text": [
      "2\n"
     ]
    }
   ],
   "source": [
    "print(matrixa.ndim)"
   ]
  },
  {
   "cell_type": "code",
   "execution_count": 98,
   "id": "4fe54a6a",
   "metadata": {},
   "outputs": [
    {
     "name": "stdout",
     "output_type": "stream",
     "text": [
      "[[-1 -2 -3]\n",
      " [-4 -5 -6]]\n"
     ]
    }
   ],
   "source": [
    "matrixb=np.array([[-1,-2,-3],[-4,-5,-6]])\n",
    "print(matrixb)"
   ]
  },
  {
   "cell_type": "code",
   "execution_count": 101,
   "id": "33d277a4",
   "metadata": {},
   "outputs": [
    {
     "name": "stdout",
     "output_type": "stream",
     "text": [
      "[[0 0 0]\n",
      " [0 0 0]]\n"
     ]
    }
   ],
   "source": [
    "print(matrixa + matrixb)"
   ]
  },
  {
   "cell_type": "code",
   "execution_count": 109,
   "id": "ac58349e",
   "metadata": {},
   "outputs": [
    {
     "data": {
      "text/plain": [
       "1.707825127659933"
      ]
     },
     "execution_count": 109,
     "metadata": {},
     "output_type": "execute_result"
    }
   ],
   "source": [
    "np.std(matrixa)\n"
   ]
  },
  {
   "cell_type": "code",
   "execution_count": 110,
   "id": "28fbe48f",
   "metadata": {},
   "outputs": [
    {
     "data": {
      "text/plain": [
       "3.5"
      ]
     },
     "execution_count": 110,
     "metadata": {},
     "output_type": "execute_result"
    }
   ],
   "source": [
    "np.mean(matrixa)"
   ]
  },
  {
   "cell_type": "code",
   "execution_count": 118,
   "id": "82ad34f5",
   "metadata": {},
   "outputs": [
    {
     "name": "stdout",
     "output_type": "stream",
     "text": [
      "[0 0 0 0]\n"
     ]
    }
   ],
   "source": [
    "h=np.zeros(4)\n",
    "h=h.astype(int)\n",
    "print(h)"
   ]
  },
  {
   "cell_type": "code",
   "execution_count": 119,
   "id": "994af24e",
   "metadata": {},
   "outputs": [
    {
     "name": "stdout",
     "output_type": "stream",
     "text": [
      "[1. 1. 1. 1.]\n",
      "[1 1 1 1]\n"
     ]
    }
   ],
   "source": [
    "unos= np.ones(4)\n",
    "print(unos)\n",
    "unos=unos.astype(int)\n",
    "print(unos)"
   ]
  },
  {
   "cell_type": "code",
   "execution_count": 120,
   "id": "4366d448",
   "metadata": {},
   "outputs": [
    {
     "name": "stdout",
     "output_type": "stream",
     "text": [
      "[1 2 3 4 5 6]\n"
     ]
    }
   ],
   "source": [
    "arre=np.array([1,2,3,4,5,6])\n",
    "print(arre)"
   ]
  },
  {
   "cell_type": "code",
   "execution_count": 124,
   "id": "e7d58924",
   "metadata": {},
   "outputs": [
    {
     "name": "stdout",
     "output_type": "stream",
     "text": [
      "[12 13 14 15 16 17 18 19]\n"
     ]
    }
   ],
   "source": [
    "arre=np.arange(12,20)\n",
    "print(arre)"
   ]
  },
  {
   "cell_type": "code",
   "execution_count": 126,
   "id": "e2f738d3",
   "metadata": {},
   "outputs": [
    {
     "name": "stdout",
     "output_type": "stream",
     "text": [
      "[14 15 16 17]\n"
     ]
    }
   ],
   "source": [
    "print(arre[2:5])"
   ]
  },
  {
   "cell_type": "code",
   "execution_count": 134,
   "id": "24aa650f",
   "metadata": {},
   "outputs": [],
   "source": [
    "desor=np.array([5,2,7,2,0])\n"
   ]
  },
  {
   "cell_type": "code",
   "execution_count": 136,
   "id": "171caed9",
   "metadata": {},
   "outputs": [
    {
     "name": "stdout",
     "output_type": "stream",
     "text": [
      "None\n"
     ]
    }
   ],
   "source": [
    "orden=desor.sort()\n",
    "print(orden)"
   ]
  },
  {
   "cell_type": "code",
   "execution_count": null,
   "id": "811ac9ad",
   "metadata": {},
   "outputs": [],
   "source": []
  }
 ],
 "metadata": {
  "kernelspec": {
   "display_name": "Python 3 (ipykernel)",
   "language": "python",
   "name": "python3"
  },
  "language_info": {
   "codemirror_mode": {
    "name": "ipython",
    "version": 3
   },
   "file_extension": ".py",
   "mimetype": "text/x-python",
   "name": "python",
   "nbconvert_exporter": "python",
   "pygments_lexer": "ipython3",
   "version": "3.9.12"
  }
 },
 "nbformat": 4,
 "nbformat_minor": 5
}
